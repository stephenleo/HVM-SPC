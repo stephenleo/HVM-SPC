{
 "cells": [
  {
   "cell_type": "markdown",
   "metadata": {},
   "source": [
    "# Problem Description"
   ]
  },
  {
   "cell_type": "markdown",
   "metadata": {},
   "source": [
    "- In modern High Volume Manufacturing (HVM) facility, Statistical Process Control (SPC) systems are very important to ensure all the equipment are delivering products that meet customer specifications. <br>\n",
    "- For example, in a robotic car assembly facility, the customer specification could be that an average car engine should deliver 22.5miles per gallon (mpg) of fuel. This is the 'response' variable. <br>\n",
    "- However, no process in nature will always be on target 100% of the time. Instead, there would be normal variation causing some engines to deliver higher and some to deliver lower than 22.5mpg. <br>\n",
    "- The customer understands about normal variation and is OK to tolerate a variation of +/- 1.5mpg. Any engine beyond these tolerance limits cannot be sold to the customer and needs to be scraped or sold for spare parts causing a revenue loss to the company. <br>\n",
    "- Hence our response variable has a target of 22.5mpg, an upper control limit of 24mpg and a lower control limit (LCL) of 21mpg. \n",
    "- The upper management of the company want 100% of the engines produced to meet these specifications (specs). However, again in nature, nothing is 100% certain. Instead, as Engineers and Statisticians, we settle for the next best thing: We can use SPC systems and 6-sigma processes to ensure 99.73% of engines will be within the specs"
   ]
  },
  {
   "cell_type": "markdown",
   "metadata": {},
   "source": [
    "- Typical HVM product lines can take anywhere between a week to few months to go from pure raw material to the complete finished product that can be sold to the customer.\n",
    "- Since the 'response' variables are customer specs, they can only be tested at the end of the manufacturing product line when the product is already built and ready to ship to the customer\n",
    "- The problem here is that if one of the equipment early on in the manufacturing line has gone rougue and produces defective parts, it can only be detected after several weeks or months when these products are finally tested for the 'response'\n",
    "- This implies that by the time the issue is identified, there could be a huge volume of products that have been processed in the rougue equipment and cause a large revenue impact to the company. So obviously, this strategy is super risky.\n",
    "- To prevent huge revenue losses from random rougue equipment, HVM facilities continuously measure critical dimensions on the product at various steps in the manufacturing line. \n",
    "- These critical dimensions are fed into a SPC system that tracks whether the measurements are running within acceptable tolerance limits themselves following 6-sigma processes."
   ]
  },
  {
   "cell_type": "markdown",
   "metadata": {},
   "source": [
    "- Now consider the following problem statement: All the critical dimensions are performing within their 6-sigma tolerances but the response variable has a large percentage falling outside the customer specs.\n",
    "- In this case, it's obvious that some of the critical dimensions need to have their variation tightened to tighten the variation in the response.\n",
    "- Hence there are 2 questions to be answered:\n",
    "    1. Considering all the critical dimensions measured on the product, which have the most impact on the resposne's variation and what are their individual contributions?\n",
    "    2. How much should the variation of these important critical dimensions be tightened to ensure the response's variation meets customer specs?\n",
    "- Let us attempt to answer both these questions using data science"
   ]
  },
  {
   "cell_type": "code",
   "execution_count": 1,
   "metadata": {},
   "outputs": [],
   "source": [
    "import pandas as pd\n",
    "import numpy as np\n",
    "import matplotlib.pyplot as plt\n",
    "from random import gauss\n",
    "%matplotlib inline"
   ]
  },
  {
   "cell_type": "markdown",
   "metadata": {},
   "source": [
    "# Modeling\n",
    "Considering all the critical dimensions measured on the product, which have the most impact on the resposne's variation and what are their individual contributions?"
   ]
  },
  {
   "cell_type": "code",
   "execution_count": 2,
   "metadata": {},
   "outputs": [
    {
     "data": {
      "text/html": [
       "<style>.container { width:60% !important; }</style>"
      ],
      "text/plain": [
       "<IPython.core.display.HTML object>"
      ]
     },
     "metadata": {},
     "output_type": "display_data"
    }
   ],
   "source": [
    "from IPython.core.display import display, HTML\n",
    "display(HTML(\"<style>.container { width:60% !important; }</style>\"))"
   ]
  },
  {
   "cell_type": "code",
   "execution_count": 3,
   "metadata": {},
   "outputs": [],
   "source": [
    "pd.set_option('display.max_columns', 15)"
   ]
  },
  {
   "cell_type": "code",
   "execution_count": 4,
   "metadata": {
    "scrolled": true
   },
   "outputs": [
    {
     "name": "stdout",
     "output_type": "stream",
     "text": [
      "Dataset columns = 30000, rows = 201\n"
     ]
    },
    {
     "data": {
      "text/html": [
       "<div>\n",
       "<style scoped>\n",
       "    .dataframe tbody tr th:only-of-type {\n",
       "        vertical-align: middle;\n",
       "    }\n",
       "\n",
       "    .dataframe tbody tr th {\n",
       "        vertical-align: top;\n",
       "    }\n",
       "\n",
       "    .dataframe thead th {\n",
       "        text-align: right;\n",
       "    }\n",
       "</style>\n",
       "<table border=\"1\" class=\"dataframe\">\n",
       "  <thead>\n",
       "    <tr style=\"text-align: right;\">\n",
       "      <th></th>\n",
       "      <th>feature_1</th>\n",
       "      <th>feature_2</th>\n",
       "      <th>feature_3</th>\n",
       "      <th>feature_4</th>\n",
       "      <th>feature_5</th>\n",
       "      <th>feature_6</th>\n",
       "      <th>feature_7</th>\n",
       "      <th>...</th>\n",
       "      <th>feature_195</th>\n",
       "      <th>feature_196</th>\n",
       "      <th>feature_197</th>\n",
       "      <th>feature_198</th>\n",
       "      <th>feature_199</th>\n",
       "      <th>feature_200</th>\n",
       "      <th>response</th>\n",
       "    </tr>\n",
       "  </thead>\n",
       "  <tbody>\n",
       "    <tr>\n",
       "      <th>0</th>\n",
       "      <td>NaN</td>\n",
       "      <td>NaN</td>\n",
       "      <td>NaN</td>\n",
       "      <td>NaN</td>\n",
       "      <td>NaN</td>\n",
       "      <td>NaN</td>\n",
       "      <td>NaN</td>\n",
       "      <td>...</td>\n",
       "      <td>NaN</td>\n",
       "      <td>NaN</td>\n",
       "      <td>NaN</td>\n",
       "      <td>NaN</td>\n",
       "      <td>NaN</td>\n",
       "      <td>NaN</td>\n",
       "      <td>22.331327</td>\n",
       "    </tr>\n",
       "    <tr>\n",
       "      <th>1</th>\n",
       "      <td>NaN</td>\n",
       "      <td>NaN</td>\n",
       "      <td>NaN</td>\n",
       "      <td>NaN</td>\n",
       "      <td>NaN</td>\n",
       "      <td>NaN</td>\n",
       "      <td>NaN</td>\n",
       "      <td>...</td>\n",
       "      <td>NaN</td>\n",
       "      <td>NaN</td>\n",
       "      <td>NaN</td>\n",
       "      <td>NaN</td>\n",
       "      <td>NaN</td>\n",
       "      <td>NaN</td>\n",
       "      <td>21.791539</td>\n",
       "    </tr>\n",
       "    <tr>\n",
       "      <th>2</th>\n",
       "      <td>NaN</td>\n",
       "      <td>NaN</td>\n",
       "      <td>NaN</td>\n",
       "      <td>NaN</td>\n",
       "      <td>NaN</td>\n",
       "      <td>NaN</td>\n",
       "      <td>NaN</td>\n",
       "      <td>...</td>\n",
       "      <td>NaN</td>\n",
       "      <td>NaN</td>\n",
       "      <td>NaN</td>\n",
       "      <td>NaN</td>\n",
       "      <td>NaN</td>\n",
       "      <td>NaN</td>\n",
       "      <td>22.482583</td>\n",
       "    </tr>\n",
       "    <tr>\n",
       "      <th>3</th>\n",
       "      <td>NaN</td>\n",
       "      <td>NaN</td>\n",
       "      <td>NaN</td>\n",
       "      <td>NaN</td>\n",
       "      <td>NaN</td>\n",
       "      <td>NaN</td>\n",
       "      <td>NaN</td>\n",
       "      <td>...</td>\n",
       "      <td>NaN</td>\n",
       "      <td>NaN</td>\n",
       "      <td>NaN</td>\n",
       "      <td>NaN</td>\n",
       "      <td>NaN</td>\n",
       "      <td>NaN</td>\n",
       "      <td>21.906473</td>\n",
       "    </tr>\n",
       "    <tr>\n",
       "      <th>4</th>\n",
       "      <td>NaN</td>\n",
       "      <td>NaN</td>\n",
       "      <td>NaN</td>\n",
       "      <td>NaN</td>\n",
       "      <td>NaN</td>\n",
       "      <td>NaN</td>\n",
       "      <td>NaN</td>\n",
       "      <td>...</td>\n",
       "      <td>NaN</td>\n",
       "      <td>NaN</td>\n",
       "      <td>NaN</td>\n",
       "      <td>NaN</td>\n",
       "      <td>NaN</td>\n",
       "      <td>NaN</td>\n",
       "      <td>22.444643</td>\n",
       "    </tr>\n",
       "  </tbody>\n",
       "</table>\n",
       "<p>5 rows × 201 columns</p>\n",
       "</div>"
      ],
      "text/plain": [
       "   feature_1  feature_2  feature_3  feature_4  feature_5  feature_6  \\\n",
       "0        NaN        NaN        NaN        NaN        NaN        NaN   \n",
       "1        NaN        NaN        NaN        NaN        NaN        NaN   \n",
       "2        NaN        NaN        NaN        NaN        NaN        NaN   \n",
       "3        NaN        NaN        NaN        NaN        NaN        NaN   \n",
       "4        NaN        NaN        NaN        NaN        NaN        NaN   \n",
       "\n",
       "   feature_7  ...  feature_195  feature_196  feature_197  feature_198  \\\n",
       "0        NaN  ...          NaN          NaN          NaN          NaN   \n",
       "1        NaN  ...          NaN          NaN          NaN          NaN   \n",
       "2        NaN  ...          NaN          NaN          NaN          NaN   \n",
       "3        NaN  ...          NaN          NaN          NaN          NaN   \n",
       "4        NaN  ...          NaN          NaN          NaN          NaN   \n",
       "\n",
       "   feature_199  feature_200   response  \n",
       "0          NaN          NaN  22.331327  \n",
       "1          NaN          NaN  21.791539  \n",
       "2          NaN          NaN  22.482583  \n",
       "3          NaN          NaN  21.906473  \n",
       "4          NaN          NaN  22.444643  \n",
       "\n",
       "[5 rows x 201 columns]"
      ]
     },
     "execution_count": 4,
     "metadata": {},
     "output_type": "execute_result"
    }
   ],
   "source": [
    "df = pd.read_csv('data/data.csv')\n",
    "print('Dataset columns = {}, rows = {}'.format(df.shape[0],df.shape[1]))\n",
    "\n",
    "# Desired control limits\n",
    "target = 22.5 # Target Value\n",
    "ucl = 24 # Upper Control Limit\n",
    "lcl = 21 # Lower Control Limit\n",
    "\n",
    "df.head()"
   ]
  },
  {
   "cell_type": "code",
   "execution_count": 5,
   "metadata": {},
   "outputs": [
    {
     "name": "stdout",
     "output_type": "stream",
     "text": [
      "<class 'pandas.core.frame.DataFrame'>\n",
      "RangeIndex: 30000 entries, 0 to 29999\n",
      "Columns: 201 entries, feature_1 to response\n",
      "dtypes: float64(201)\n",
      "memory usage: 46.0 MB\n"
     ]
    }
   ],
   "source": [
    "df.info()"
   ]
  },
  {
   "cell_type": "code",
   "execution_count": 6,
   "metadata": {},
   "outputs": [
    {
     "name": "stdout",
     "output_type": "stream",
     "text": [
      "X_train, y_train, X_test, y_test shapes = (24000, 200), (24000,), (6000, 200), (6000,)\n"
     ]
    }
   ],
   "source": [
    "# Split features (X) and response (y)\n",
    "X = df.iloc[:,:-1]\n",
    "y = df['response']\n",
    "\n",
    "# Split Train as first 80% (24K) rows and test as last 20% (6K) rows to simulate using past data to train and future data to test\n",
    "X_train, X_test, y_train, y_test = X[:24000], X[24000:], y[:24000], y[24000:]\n",
    "\n",
    "print('X_train, y_train, X_test, y_test shapes = {}, {}, {}, {}'.format(X_train.shape, y_train.shape, X_test.shape, y_test.shape))"
   ]
  },
  {
   "cell_type": "code",
   "execution_count": 7,
   "metadata": {},
   "outputs": [
    {
     "name": "stdout",
     "output_type": "stream",
     "text": [
      "Response Mean: 22.51, StdDev: 0.91\n",
      "Below LCL(21): 4.92%, Above UCL(24): 5.01%\n"
     ]
    },
    {
     "data": {
      "image/png": "[encoded data removed]",
      "text/plain": [
       "<Figure size 432x288 with 1 Axes>"
      ]
     },
     "metadata": {
      "needs_background": "light"
     },
     "output_type": "display_data"
    }
   ],
   "source": [
    "# Print Statistics\n",
    "pct_below_lcl = y_train [y_train < lcl].count()/len(y_train)\n",
    "pct_above_ucl = y_train[y_train > ucl].count()/len(y_train)\n",
    "print('Response Mean: {:.2f}, StdDev: {:.2f}'.format(y_train.mean(), y_train.std()))\n",
    "print('Below LCL({}): {:.2f}%, Above UCL({}): {:.2f}%'.format(lcl, pct_below_lcl*100, ucl, pct_above_ucl*100))\n",
    "\n",
    "# Check the distribution of the y_train\n",
    "y_train.hist(bins=50)\n",
    "plt.axvline(ucl, color = 'r', label = 'UCL')\n",
    "plt.axvline(lcl, color = 'k', label = 'LCL')\n",
    "plt.legend()\n",
    "plt.title('Response')\n",
    "plt.tight_layout();"
   ]
  },
  {
   "cell_type": "code",
   "execution_count": 8,
   "metadata": {},
   "outputs": [
    {
     "data": {
      "text/html": [
       "<div>\n",
       "<style scoped>\n",
       "    .dataframe tbody tr th:only-of-type {\n",
       "        vertical-align: middle;\n",
       "    }\n",
       "\n",
       "    .dataframe tbody tr th {\n",
       "        vertical-align: top;\n",
       "    }\n",
       "\n",
       "    .dataframe thead th {\n",
       "        text-align: right;\n",
       "    }\n",
       "</style>\n",
       "<table border=\"1\" class=\"dataframe\">\n",
       "  <thead>\n",
       "    <tr style=\"text-align: right;\">\n",
       "      <th></th>\n",
       "      <th>feature_1</th>\n",
       "      <th>feature_2</th>\n",
       "      <th>feature_3</th>\n",
       "      <th>feature_4</th>\n",
       "      <th>feature_5</th>\n",
       "      <th>feature_6</th>\n",
       "      <th>feature_7</th>\n",
       "      <th>...</th>\n",
       "      <th>feature_194</th>\n",
       "      <th>feature_195</th>\n",
       "      <th>feature_196</th>\n",
       "      <th>feature_197</th>\n",
       "      <th>feature_198</th>\n",
       "      <th>feature_199</th>\n",
       "      <th>feature_200</th>\n",
       "    </tr>\n",
       "  </thead>\n",
       "  <tbody>\n",
       "    <tr>\n",
       "      <th>count</th>\n",
       "      <td>4450.000000</td>\n",
       "      <td>4368.000000</td>\n",
       "      <td>4424.000000</td>\n",
       "      <td>4367.000000</td>\n",
       "      <td>4385.000000</td>\n",
       "      <td>4456.000000</td>\n",
       "      <td>4414.000000</td>\n",
       "      <td>...</td>\n",
       "      <td>4429.000000</td>\n",
       "      <td>4428.000000</td>\n",
       "      <td>4428.000000</td>\n",
       "      <td>4440.000000</td>\n",
       "      <td>4479.000000</td>\n",
       "      <td>4356.000000</td>\n",
       "      <td>8345.000000</td>\n",
       "    </tr>\n",
       "    <tr>\n",
       "      <th>mean</th>\n",
       "      <td>-0.049984</td>\n",
       "      <td>-0.030033</td>\n",
       "      <td>99.962276</td>\n",
       "      <td>50.091356</td>\n",
       "      <td>-11.385654</td>\n",
       "      <td>105.867981</td>\n",
       "      <td>-59.339075</td>\n",
       "      <td>...</td>\n",
       "      <td>98.553579</td>\n",
       "      <td>92.706017</td>\n",
       "      <td>-96.988730</td>\n",
       "      <td>131.123582</td>\n",
       "      <td>135.555401</td>\n",
       "      <td>114.764995</td>\n",
       "      <td>147.436303</td>\n",
       "    </tr>\n",
       "    <tr>\n",
       "      <th>std</th>\n",
       "      <td>0.002009</td>\n",
       "      <td>0.001987</td>\n",
       "      <td>4.968360</td>\n",
       "      <td>5.060973</td>\n",
       "      <td>5.151478</td>\n",
       "      <td>8.741134</td>\n",
       "      <td>2.710678</td>\n",
       "      <td>...</td>\n",
       "      <td>15.158036</td>\n",
       "      <td>19.149855</td>\n",
       "      <td>21.949254</td>\n",
       "      <td>11.142099</td>\n",
       "      <td>12.009602</td>\n",
       "      <td>6.681187</td>\n",
       "      <td>22.808123</td>\n",
       "    </tr>\n",
       "    <tr>\n",
       "      <th>min</th>\n",
       "      <td>-0.056646</td>\n",
       "      <td>-0.037404</td>\n",
       "      <td>82.764507</td>\n",
       "      <td>28.542544</td>\n",
       "      <td>-31.091991</td>\n",
       "      <td>71.391283</td>\n",
       "      <td>-69.758132</td>\n",
       "      <td>...</td>\n",
       "      <td>47.780318</td>\n",
       "      <td>13.544308</td>\n",
       "      <td>-180.415655</td>\n",
       "      <td>93.912896</td>\n",
       "      <td>93.424235</td>\n",
       "      <td>86.533637</td>\n",
       "      <td>70.187863</td>\n",
       "    </tr>\n",
       "    <tr>\n",
       "      <th>25%</th>\n",
       "      <td>-0.051322</td>\n",
       "      <td>-0.031377</td>\n",
       "      <td>96.668553</td>\n",
       "      <td>46.644774</td>\n",
       "      <td>-14.884029</td>\n",
       "      <td>100.119169</td>\n",
       "      <td>-61.160649</td>\n",
       "      <td>...</td>\n",
       "      <td>88.415621</td>\n",
       "      <td>80.063579</td>\n",
       "      <td>-111.424782</td>\n",
       "      <td>123.605823</td>\n",
       "      <td>127.156606</td>\n",
       "      <td>110.347601</td>\n",
       "      <td>131.862404</td>\n",
       "    </tr>\n",
       "    <tr>\n",
       "      <th>50%</th>\n",
       "      <td>-0.049995</td>\n",
       "      <td>-0.030015</td>\n",
       "      <td>99.901465</td>\n",
       "      <td>50.047881</td>\n",
       "      <td>-11.358976</td>\n",
       "      <td>105.835191</td>\n",
       "      <td>-59.359806</td>\n",
       "      <td>...</td>\n",
       "      <td>98.427256</td>\n",
       "      <td>92.604969</td>\n",
       "      <td>-97.440547</td>\n",
       "      <td>131.151515</td>\n",
       "      <td>135.492407</td>\n",
       "      <td>114.652342</td>\n",
       "      <td>147.404291</td>\n",
       "    </tr>\n",
       "    <tr>\n",
       "      <th>75%</th>\n",
       "      <td>-0.048640</td>\n",
       "      <td>-0.028674</td>\n",
       "      <td>103.244163</td>\n",
       "      <td>53.500605</td>\n",
       "      <td>-7.936962</td>\n",
       "      <td>111.622879</td>\n",
       "      <td>-57.462528</td>\n",
       "      <td>...</td>\n",
       "      <td>108.756368</td>\n",
       "      <td>105.530431</td>\n",
       "      <td>-82.573571</td>\n",
       "      <td>138.648872</td>\n",
       "      <td>143.644408</td>\n",
       "      <td>119.144742</td>\n",
       "      <td>162.688959</td>\n",
       "    </tr>\n",
       "    <tr>\n",
       "      <th>max</th>\n",
       "      <td>-0.043528</td>\n",
       "      <td>-0.022886</td>\n",
       "      <td>117.084253</td>\n",
       "      <td>70.432492</td>\n",
       "      <td>8.643604</td>\n",
       "      <td>134.397908</td>\n",
       "      <td>-49.525436</td>\n",
       "      <td>...</td>\n",
       "      <td>151.325914</td>\n",
       "      <td>160.912889</td>\n",
       "      <td>-14.354053</td>\n",
       "      <td>170.603790</td>\n",
       "      <td>186.887618</td>\n",
       "      <td>141.026975</td>\n",
       "      <td>235.200831</td>\n",
       "    </tr>\n",
       "  </tbody>\n",
       "</table>\n",
       "<p>8 rows × 200 columns</p>\n",
       "</div>"
      ],
      "text/plain": [
       "         feature_1    feature_2    feature_3    feature_4    feature_5  \\\n",
       "count  4450.000000  4368.000000  4424.000000  4367.000000  4385.000000   \n",
       "mean     -0.049984    -0.030033    99.962276    50.091356   -11.385654   \n",
       "std       0.002009     0.001987     4.968360     5.060973     5.151478   \n",
       "min      -0.056646    -0.037404    82.764507    28.542544   -31.091991   \n",
       "25%      -0.051322    -0.031377    96.668553    46.644774   -14.884029   \n",
       "50%      -0.049995    -0.030015    99.901465    50.047881   -11.358976   \n",
       "75%      -0.048640    -0.028674   103.244163    53.500605    -7.936962   \n",
       "max      -0.043528    -0.022886   117.084253    70.432492     8.643604   \n",
       "\n",
       "         feature_6    feature_7  ...  feature_194  feature_195  feature_196  \\\n",
       "count  4456.000000  4414.000000  ...  4429.000000  4428.000000  4428.000000   \n",
       "mean    105.867981   -59.339075  ...    98.553579    92.706017   -96.988730   \n",
       "std       8.741134     2.710678  ...    15.158036    19.149855    21.949254   \n",
       "min      71.391283   -69.758132  ...    47.780318    13.544308  -180.415655   \n",
       "25%     100.119169   -61.160649  ...    88.415621    80.063579  -111.424782   \n",
       "50%     105.835191   -59.359806  ...    98.427256    92.604969   -97.440547   \n",
       "75%     111.622879   -57.462528  ...   108.756368   105.530431   -82.573571   \n",
       "max     134.397908   -49.525436  ...   151.325914   160.912889   -14.354053   \n",
       "\n",
       "       feature_197  feature_198  feature_199  feature_200  \n",
       "count  4440.000000  4479.000000  4356.000000  8345.000000  \n",
       "mean    131.123582   135.555401   114.764995   147.436303  \n",
       "std      11.142099    12.009602     6.681187    22.808123  \n",
       "min      93.912896    93.424235    86.533637    70.187863  \n",
       "25%     123.605823   127.156606   110.347601   131.862404  \n",
       "50%     131.151515   135.492407   114.652342   147.404291  \n",
       "75%     138.648872   143.644408   119.144742   162.688959  \n",
       "max     170.603790   186.887618   141.026975   235.200831  \n",
       "\n",
       "[8 rows x 200 columns]"
      ]
     },
     "execution_count": 8,
     "metadata": {},
     "output_type": "execute_result"
    }
   ],
   "source": [
    "X_train.describe()"
   ]
  },
  {
   "cell_type": "code",
   "execution_count": 9,
   "metadata": {},
   "outputs": [
    {
     "name": "stdout",
     "output_type": "stream",
     "text": [
      "Mean missing = 81.39%; Min missing = 65.23% ; Max missing = 81.98% \n"
     ]
    }
   ],
   "source": [
    "# Check % of missing data\n",
    "mean_missing = X_train.isna().sum().mean()/X_train.shape[0]\n",
    "min_missing = X_train.isna().sum().min()/X_train.shape[0]\n",
    "max_missing = X_train.isna().sum().max()/X_train.shape[0]\n",
    "print ('Mean missing = {:.2f}%; Min missing = {:.2f}% ; Max missing = {:.2f}% '.format(mean_missing*100, min_missing*100, max_missing*100))"
   ]
  },
  {
   "cell_type": "markdown",
   "metadata": {},
   "source": [
    "Since the model's output needs to be interpretable for the Engineering team to take action on the important features, we choose to use Linear Models here"
   ]
  },
  {
   "cell_type": "code",
   "execution_count": 10,
   "metadata": {},
   "outputs": [],
   "source": [
    "# Impute missing values\n",
    "from sklearn.impute import SimpleImputer\n",
    "imputer = SimpleImputer(strategy='mean')\n",
    "\n",
    "# Scaling\n",
    "from sklearn.preprocessing import StandardScaler\n",
    "scaler = StandardScaler()\n",
    "\n",
    "# Linear model\n",
    "from sklearn.linear_model import LinearRegression, LassoCV, RidgeCV, ElasticNetCV, Lasso\n",
    "alphas = np.logspace(-6, -0.1, 100)\n",
    "lr_model = LinearRegression()\n",
    "lass_model = LassoCV(alphas=alphas, cv=3, max_iter=10000)\n",
    "rid_model = RidgeCV(alphas=alphas, cv=3)\n",
    "elas_model = ElasticNetCV(alphas=alphas, cv=3, max_iter=10000, l1_ratio=0.5)\n",
    "\n",
    "# Cross Validation\n",
    "from sklearn.model_selection import KFold\n",
    "kf = KFold(n_splits=10)\n",
    "\n",
    "# Pipeline\n",
    "from sklearn.pipeline import Pipeline\n",
    "\n",
    "# Metrics\n",
    "from sklearn.metrics import mean_squared_error, r2_score\n",
    "\n",
    "models = {'linear_regression': lr_model, 'lasso': lass_model, 'ridge': rid_model, 'elastic_net': elas_model}"
   ]
  },
  {
   "cell_type": "code",
   "execution_count": 11,
   "metadata": {},
   "outputs": [
    {
     "name": "stdout",
     "output_type": "stream",
     "text": [
      "linear_regression Alpha mean: 0.0000; stddev: 0.0000\n",
      "linear_regression RMSE mean: 0.8222; stddev: 0.0137\n",
      "linear_regression R2 mean: 0.1788; stddev: 0.0182\n",
      "\n",
      "lasso Alpha mean: 0.0092; stddev: 0.0006\n",
      "lasso RMSE mean: 0.8199; stddev: 0.0137\n",
      "lasso R2 mean: 0.1834; stddev: 0.0176\n",
      "\n",
      "ridge Alpha mean: 0.7943; stddev: 0.0000\n",
      "ridge RMSE mean: 0.8222; stddev: 0.0137\n",
      "ridge R2 mean: 0.1788; stddev: 0.0182\n",
      "\n",
      "elastic_net Alpha mean: 0.0171; stddev: 0.0011\n",
      "elastic_net RMSE mean: 0.8199; stddev: 0.0136\n",
      "elastic_net R2 mean: 0.1833; stddev: 0.0175\n",
      "\n"
     ]
    }
   ],
   "source": [
    "alpha_all, RMSE_all, R2_all = [], [], []\n",
    "for model, estimator in models.items():\n",
    "    model_pipeline = Pipeline([\n",
    "        ('imputer', imputer), \n",
    "        ('scaling', scaler),\n",
    "        (model, estimator)\n",
    "        ])\n",
    "    \n",
    "    alpha, RMSE, R2 = [], [], []\n",
    "    \n",
    "    for train_index, val_index in kf.split(X_train):\n",
    "        X_train_fold, X_val_fold = X_train.loc[train_index], X_train.loc[val_index]\n",
    "        y_train_fold, y_val_fold = y_train[train_index], y_train[val_index]\n",
    "    \n",
    "        model_pipeline.fit(X_train_fold, y_train_fold)\n",
    "        \n",
    "        if hasattr(model_pipeline.named_steps[model], 'alpha_'):\n",
    "            alpha.append(model_pipeline.named_steps[model].alpha_)\n",
    "        else:\n",
    "            alpha.append(0)\n",
    "        \n",
    "        y_pred = model_pipeline.predict(X_val_fold)\n",
    "        RMSE.append(mean_squared_error(y_val_fold, y_pred)**0.5)\n",
    "        R2.append(r2_score(y_val_fold, y_pred))\n",
    "        \n",
    "    alpha_all.append(np.mean(alpha))\n",
    "    RMSE_all.append(np.mean(RMSE))\n",
    "    R2_all.append(np.mean(R2))\n",
    "\n",
    "    print('{} Alpha mean: {:.4f}; stddev: {:.4f}'.format(model, np.mean(alpha), np.std(alpha)))\n",
    "    print('{} RMSE mean: {:.4f}; stddev: {:.4f}'.format(model, np.mean(RMSE), np.std(RMSE)))\n",
    "    print('{} R2 mean: {:.4f}; stddev: {:.4f}\\n'.format(model, np.mean(R2), np.std(R2)))"
   ]
  },
  {
   "cell_type": "code",
   "execution_count": 12,
   "metadata": {},
   "outputs": [
    {
     "data": {
      "text/html": [
       "<div>\n",
       "<style scoped>\n",
       "    .dataframe tbody tr th:only-of-type {\n",
       "        vertical-align: middle;\n",
       "    }\n",
       "\n",
       "    .dataframe tbody tr th {\n",
       "        vertical-align: top;\n",
       "    }\n",
       "\n",
       "    .dataframe thead th {\n",
       "        text-align: right;\n",
       "    }\n",
       "</style>\n",
       "<table border=\"1\" class=\"dataframe\">\n",
       "  <thead>\n",
       "    <tr style=\"text-align: right;\">\n",
       "      <th></th>\n",
       "      <th>alpha</th>\n",
       "      <th>RMSE</th>\n",
       "      <th>R2</th>\n",
       "    </tr>\n",
       "  </thead>\n",
       "  <tbody>\n",
       "    <tr>\n",
       "      <th>Linear_Reg</th>\n",
       "      <td>0.000000</td>\n",
       "      <td>0.822168</td>\n",
       "      <td>0.178774</td>\n",
       "    </tr>\n",
       "    <tr>\n",
       "      <th>Lasso</th>\n",
       "      <td>0.009208</td>\n",
       "      <td>0.819857</td>\n",
       "      <td>0.183395</td>\n",
       "    </tr>\n",
       "    <tr>\n",
       "      <th>Ridge</th>\n",
       "      <td>0.794328</td>\n",
       "      <td>0.822168</td>\n",
       "      <td>0.178775</td>\n",
       "    </tr>\n",
       "    <tr>\n",
       "      <th>Elastic_Net</th>\n",
       "      <td>0.017066</td>\n",
       "      <td>0.819918</td>\n",
       "      <td>0.183274</td>\n",
       "    </tr>\n",
       "  </tbody>\n",
       "</table>\n",
       "</div>"
      ],
      "text/plain": [
       "                alpha      RMSE        R2\n",
       "Linear_Reg   0.000000  0.822168  0.178774\n",
       "Lasso        0.009208  0.819857  0.183395\n",
       "Ridge        0.794328  0.822168  0.178775\n",
       "Elastic_Net  0.017066  0.819918  0.183274"
      ]
     },
     "execution_count": 12,
     "metadata": {},
     "output_type": "execute_result"
    }
   ],
   "source": [
    "model_metrics_df = pd.DataFrame(np.c_[alpha_all, RMSE_all, R2_all], \n",
    "                                columns=['alpha', 'RMSE', 'R2'], \n",
    "                                index=['Linear_Reg', 'Lasso', 'Ridge', 'Elastic_Net'])\n",
    "model_metrics_df"
   ]
  },
  {
   "cell_type": "code",
   "execution_count": 13,
   "metadata": {},
   "outputs": [
    {
     "data": {
      "image/png": "[encoded data removed]",
      "text/plain": [
       "<Figure size 504x360 with 1 Axes>"
      ]
     },
     "metadata": {
      "needs_background": "light"
     },
     "output_type": "display_data"
    }
   ],
   "source": [
    "model_metrics_df.plot.bar(y=['RMSE', 'R2'], figsize=(7,5))\n",
    "plt.xticks(fontsize=14, rotation=90);"
   ]
  },
  {
   "cell_type": "markdown",
   "metadata": {},
   "source": [
    "The RMSEs are not great. In fact, the RMSEs are only ~0.1 lower than the std dev of the response. Let's dig deeper"
   ]
  },
  {
   "cell_type": "code",
   "execution_count": 14,
   "metadata": {},
   "outputs": [
    {
     "name": "stdout",
     "output_type": "stream",
     "text": [
      "RMSE: 0.8238\n",
      "R2: 0.1936\n"
     ]
    },
    {
     "data": {
      "image/png": "[encoded data removed]",
      "text/plain": [
       "<Figure size 504x360 with 1 Axes>"
      ]
     },
     "metadata": {
      "needs_background": "light"
     },
     "output_type": "display_data"
    }
   ],
   "source": [
    "# Build individual Lasso model with best Alpha from above\n",
    "final_pipeline = Pipeline([\n",
    "        ('imputer', imputer), \n",
    "        ('scaling', scaler),\n",
    "        ('lasso', Lasso(alpha = model_metrics_df.alpha['Lasso']))\n",
    "        ])\n",
    "\n",
    "final_pipeline.fit(X_train, y_train)\n",
    "\n",
    "y_pred = final_pipeline.predict(X_test)\n",
    "print('RMSE: {:.4f}'.format(mean_squared_error(y_test, y_pred)**0.5))\n",
    "print('R2: {:.4f}'.format(r2_score(y_test, y_pred)))\n",
    "\n",
    "plt.figure(figsize=(7,5))\n",
    "plt.scatter(y_test, y_pred)\n",
    "plt.xticks(fontsize=14)\n",
    "plt.yticks(fontsize=14);\n",
    "plt.ylabel('Predicted Value', fontsize=14)\n",
    "plt.xlabel('Actual Value', fontsize=14)\n",
    "plt.tight_layout();"
   ]
  },
  {
   "cell_type": "code",
   "execution_count": 15,
   "metadata": {},
   "outputs": [
    {
     "data": {
      "text/html": [
       "<div>\n",
       "<style scoped>\n",
       "    .dataframe tbody tr th:only-of-type {\n",
       "        vertical-align: middle;\n",
       "    }\n",
       "\n",
       "    .dataframe tbody tr th {\n",
       "        vertical-align: top;\n",
       "    }\n",
       "\n",
       "    .dataframe thead th {\n",
       "        text-align: right;\n",
       "    }\n",
       "</style>\n",
       "<table border=\"1\" class=\"dataframe\">\n",
       "  <thead>\n",
       "    <tr style=\"text-align: right;\">\n",
       "      <th></th>\n",
       "      <th>coefficient</th>\n",
       "    </tr>\n",
       "  </thead>\n",
       "  <tbody>\n",
       "    <tr>\n",
       "      <th>feature_1</th>\n",
       "      <td>0.208161</td>\n",
       "    </tr>\n",
       "    <tr>\n",
       "      <th>feature_2</th>\n",
       "      <td>-0.205612</td>\n",
       "    </tr>\n",
       "    <tr>\n",
       "      <th>feature_3</th>\n",
       "      <td>-0.206923</td>\n",
       "    </tr>\n",
       "    <tr>\n",
       "      <th>feature_4</th>\n",
       "      <td>0.093538</td>\n",
       "    </tr>\n",
       "    <tr>\n",
       "      <th>feature_61</th>\n",
       "      <td>-0.000593</td>\n",
       "    </tr>\n",
       "  </tbody>\n",
       "</table>\n",
       "</div>"
      ],
      "text/plain": [
       "            coefficient\n",
       "feature_1      0.208161\n",
       "feature_2     -0.205612\n",
       "feature_3     -0.206923\n",
       "feature_4      0.093538\n",
       "feature_61    -0.000593"
      ]
     },
     "execution_count": 15,
     "metadata": {},
     "output_type": "execute_result"
    }
   ],
   "source": [
    "# Find out which features Lasso uses to build the model\n",
    "coef = pd.DataFrame(final_pipeline.named_steps['lasso'].coef_, columns=['coefficient'], index=X_train.columns)\n",
    "coef[coef['coefficient'] != 0]"
   ]
  },
  {
   "cell_type": "code",
   "execution_count": 16,
   "metadata": {},
   "outputs": [
    {
     "data": {
      "text/html": [
       "<div>\n",
       "<style scoped>\n",
       "    .dataframe tbody tr th:only-of-type {\n",
       "        vertical-align: middle;\n",
       "    }\n",
       "\n",
       "    .dataframe tbody tr th {\n",
       "        vertical-align: top;\n",
       "    }\n",
       "\n",
       "    .dataframe thead th {\n",
       "        text-align: right;\n",
       "    }\n",
       "</style>\n",
       "<table border=\"1\" class=\"dataframe\">\n",
       "  <thead>\n",
       "    <tr style=\"text-align: right;\">\n",
       "      <th></th>\n",
       "      <th>coefficient</th>\n",
       "    </tr>\n",
       "  </thead>\n",
       "  <tbody>\n",
       "    <tr>\n",
       "      <th>feature_1</th>\n",
       "      <td>240.664873</td>\n",
       "    </tr>\n",
       "    <tr>\n",
       "      <th>feature_2</th>\n",
       "      <td>-242.632047</td>\n",
       "    </tr>\n",
       "    <tr>\n",
       "      <th>feature_3</th>\n",
       "      <td>-0.097016</td>\n",
       "    </tr>\n",
       "    <tr>\n",
       "      <th>feature_4</th>\n",
       "      <td>0.043333</td>\n",
       "    </tr>\n",
       "    <tr>\n",
       "      <th>feature_61</th>\n",
       "      <td>-0.000341</td>\n",
       "    </tr>\n",
       "  </tbody>\n",
       "</table>\n",
       "</div>"
      ],
      "text/plain": [
       "            coefficient\n",
       "feature_1    240.664873\n",
       "feature_2   -242.632047\n",
       "feature_3     -0.097016\n",
       "feature_4      0.043333\n",
       "feature_61    -0.000341"
      ]
     },
     "execution_count": 16,
     "metadata": {},
     "output_type": "execute_result"
    }
   ],
   "source": [
    "# Rescale back the coefficients to the original scale\n",
    "# https://stackoverflow.com/questions/31029340/how-to-adjust-scaled-scikit-learn-logicistic-regression-coeffs-to-score-a-non-sc\n",
    "coef_rescale = coef.divide(scaler.scale_, axis=0 )\n",
    "coef_rescale[coef_rescale['coefficient'] != 0]"
   ]
  },
  {
   "cell_type": "code",
   "execution_count": 17,
   "metadata": {},
   "outputs": [
    {
     "data": {
      "text/plain": [
       "(227, 200)"
      ]
     },
     "execution_count": 17,
     "metadata": {},
     "output_type": "execute_result"
    }
   ],
   "source": [
    "# Drop rows that contain missing values in the features used by the Lasso model to prevent noise from Imputation\n",
    "feature_cols = list(coef_rescale[coef_rescale['coefficient'] != 0].index)\n",
    "test_df = X_test.dropna(axis = 0, how='any', subset=feature_cols)\n",
    "y_test = y_test[test_df.index]\n",
    "test_df.shape"
   ]
  },
  {
   "cell_type": "code",
   "execution_count": 18,
   "metadata": {},
   "outputs": [
    {
     "name": "stdout",
     "output_type": "stream",
     "text": [
      "RMSE: 0.1098\n",
      "R2: 0.9861\n"
     ]
    },
    {
     "data": {
      "image/png": "[encoded data removed]",
      "text/plain": [
       "<Figure size 504x360 with 1 Axes>"
      ]
     },
     "metadata": {
      "needs_background": "light"
     },
     "output_type": "display_data"
    }
   ],
   "source": [
    "y_pred = final_pipeline.predict(test_df)\n",
    "print('RMSE: {:.4f}'.format(mean_squared_error(y_test, y_pred)**0.5))\n",
    "print('R2: {:.4f}'.format(r2_score(y_test, y_pred)))\n",
    "\n",
    "plt.figure(figsize=(7,5))\n",
    "plt.scatter(y_test, y_pred)\n",
    "plt.xticks(fontsize=14)\n",
    "plt.yticks(fontsize=14);\n",
    "plt.ylabel('Predicted Value', fontsize=14)\n",
    "plt.xlabel('Actual Value', fontsize=14)\n",
    "plt.tight_layout();"
   ]
  },
  {
   "cell_type": "markdown",
   "metadata": {},
   "source": [
    "We achieved much better RMSE and R2 after removing the missing values from the features that are important to the model! <br>\n",
    "This suggests that while making predictions, we must limit ourselves to predicting only those rows that have data for all the 5 important features. <br>\n",
    "As a Data Scientist, we can use this conclusion to influence the Engineering team who is incharge of choosing how to sample the measurments. <br> \n",
    "For example, since each feature is measured on 20% of the rows, the Engineering team could implement a sampling strategy to ensure half of these measurements (10%) are measured on all 5 features and the other half (10%) remains random. <br>\n",
    "Knowing your customer and using data to influence their decisions are important skills for a Data Scientist!"
   ]
  },
  {
   "cell_type": "markdown",
   "metadata": {},
   "source": [
    "# Monte Carlo Simulation\n",
    "How much should the variation of these important critical dimensions be tightened to ensure the response's variation meets customer specs?"
   ]
  },
  {
   "cell_type": "code",
   "execution_count": 19,
   "metadata": {},
   "outputs": [
    {
     "data": {
      "image/png": "[encoded data removed]",
      "text/plain": [
       "<Figure size 720x504 with 6 Axes>"
      ]
     },
     "metadata": {
      "needs_background": "light"
     },
     "output_type": "display_data"
    }
   ],
   "source": [
    "# View the distribution of the feature columns\n",
    "X_train[feature_cols].hist(figsize=(10,7), bins=50)\n",
    "plt.tight_layout();"
   ]
  },
  {
   "cell_type": "code",
   "execution_count": 20,
   "metadata": {},
   "outputs": [],
   "source": [
    "# Develop the Montel-Carlo simulation model of the response by choosing random normally distributed values for the important features\n",
    "N_runs = 50000\n",
    "RMSE = mean_squared_error(y_test, y_pred)**0.5\n",
    "\n",
    "def sim_response_gen(X_train, y_train, feature_cols, coef_rescale, RMSE, N_runs, std_div=1):\n",
    "    '''Simulate Response generator\n",
    "    Since Lasso is a linear model, we construct the reponse = coef1*feature1 + coef2*feature2 + ...\n",
    "    All the features to generate normally distributed N_runs number of random points using the mean and stddev of their actual data\n",
    "    '''\n",
    "    \n",
    "    simulated_response = 0\n",
    "    for col in feature_cols:\n",
    "        col_mean = X_train[col].mean()\n",
    "        col_std = X_train[col].std()/std_div\n",
    "        col_coef = coef_rescale.coefficient[col]\n",
    "        simulated_response += col_coef * np.random.normal(loc = col_mean, scale = col_std, size = N_runs)\n",
    "\n",
    "    simulated_response += [gauss(0, RMSE) for i in range(N_runs)]\n",
    "    simulated_response += (y_train.mean() - simulated_response.mean())\n",
    "    return simulated_response, simulated_response.std()\n",
    "\n",
    "sim_response, sim_response_std = sim_response_gen(X_train, y_train, feature_cols, coef_rescale, RMSE, N_runs, 1)"
   ]
  },
  {
   "cell_type": "code",
   "execution_count": 21,
   "metadata": {},
   "outputs": [
    {
     "name": "stdout",
     "output_type": "stream",
     "text": [
      "Simulated Response Mean: 22.51, StdDev: 0.87\n",
      "Below LCL(21): 4.13%, Above UCL(24): 4.33%\n"
     ]
    },
    {
     "data": {
      "image/png": "[encoded data removed]",
      "text/plain": [
       "<Figure size 432x288 with 1 Axes>"
      ]
     },
     "metadata": {
      "needs_background": "light"
     },
     "output_type": "display_data"
    }
   ],
   "source": [
    "# Print Statistics\n",
    "pct_below_lcl = len(sim_response[sim_response < lcl])/len(sim_response)\n",
    "pct_above_ucl = len(sim_response[sim_response > ucl])/len(sim_response)\n",
    "print('Simulated Response Mean: {:.2f}, StdDev: {:.2f}'.format(sim_response.mean(), sim_response_std))\n",
    "print('Below LCL({}): {:.2f}%, Above UCL({}): {:.2f}%'.format(lcl, pct_below_lcl*100, ucl, pct_above_ucl*100))\n",
    "\n",
    "# Check the distribution of the simulated response\n",
    "plt.hist(sim_response, bins=50)\n",
    "plt.axvline(ucl, color = 'r', label = 'UCL')\n",
    "plt.axvline(lcl, color = 'k', label = 'LCL')\n",
    "plt.legend()\n",
    "plt.title('Simulated Response')\n",
    "plt.tight_layout();"
   ]
  },
  {
   "cell_type": "code",
   "execution_count": 22,
   "metadata": {},
   "outputs": [
    {
     "data": {
      "text/plain": [
       "0.5"
      ]
     },
     "execution_count": 22,
     "metadata": {},
     "output_type": "execute_result"
    }
   ],
   "source": [
    "# Calculate the required StdDev of Simulated Response\n",
    "# UCL-LCL is the required 6*Sigma or 6*StdDev value. So we calculate the required stddev as (ucl-lcl)/6\n",
    "req_std = (ucl-lcl)/6\n",
    "req_std"
   ]
  },
  {
   "cell_type": "code",
   "execution_count": 23,
   "metadata": {},
   "outputs": [
    {
     "data": {
      "text/plain": [
       "array([1. , 1.1, 1.2, 1.3, 1.4, 1.5, 1.6, 1.7, 1.8, 1.9, 2. ])"
      ]
     },
     "execution_count": 23,
     "metadata": {},
     "output_type": "execute_result"
    }
   ],
   "source": [
    "# Create a range of stddev dividers to find the reduction needed in feature stddev to meet the customer specs of response stddev\n",
    "std_div_range = np.linspace(1,2,11)\n",
    "std_div_range"
   ]
  },
  {
   "cell_type": "code",
   "execution_count": 24,
   "metadata": {},
   "outputs": [
    {
     "name": "stdout",
     "output_type": "stream",
     "text": [
      "std_div: 1.00, sim_response_std: 0.87\n",
      "std_div: 1.10, sim_response_std: 0.79\n",
      "std_div: 1.20, sim_response_std: 0.73\n",
      "std_div: 1.30, sim_response_std: 0.67\n",
      "std_div: 1.40, sim_response_std: 0.63\n",
      "std_div: 1.50, sim_response_std: 0.59\n",
      "std_div: 1.60, sim_response_std: 0.55\n",
      "std_div: 1.70, sim_response_std: 0.52\n",
      "std_div: 1.80, sim_response_std: 0.49\n"
     ]
    }
   ],
   "source": [
    "# Find the least reduction needed in feature stddev to meet the customer specs of response stddev\n",
    "for std_div in std_div_range:\n",
    "    sim_response, sim_response_std = sim_response_gen(X_train, y_train, feature_cols, coef_rescale, RMSE, N_runs, std_div)\n",
    "    print('std_div: {:.2f}, sim_response_std: {:.2f}'.format(std_div, sim_response_std))\n",
    "    if sim_response_std < req_std:\n",
    "        req_std_div = std_div\n",
    "        opt_sim_response = sim_response\n",
    "        opt_sim_response_std = sim_response_std\n",
    "        break"
   ]
  },
  {
   "cell_type": "code",
   "execution_count": 25,
   "metadata": {},
   "outputs": [
    {
     "name": "stdout",
     "output_type": "stream",
     "text": [
      "StdDev of features need to divide by: 1.80 to get Final Simulated Response StdDev: 0.49\n",
      "Optimized Simulated Response Mean: 22.51, StdDev: 0.49\n",
      "Below LCL(21): 0.12%, Above UCL(24): 0.12%\n"
     ]
    },
    {
     "data": {
      "image/png": "[encoded data removed]",
      "text/plain": [
       "<Figure size 432x288 with 1 Axes>"
      ]
     },
     "metadata": {
      "needs_background": "light"
     },
     "output_type": "display_data"
    }
   ],
   "source": [
    "print('StdDev of features need to divide by: {:.2f} to get Final Simulated Response StdDev: {:.2f}'.format(req_std_div,opt_sim_response_std))\n",
    "\n",
    "# Print Statistics\n",
    "pct_below_lcl = len(opt_sim_response[opt_sim_response < lcl])/len(opt_sim_response)\n",
    "pct_above_ucl = len(opt_sim_response[opt_sim_response > ucl])/len(opt_sim_response)\n",
    "print('Optimized Simulated Response Mean: {:.2f}, StdDev: {:.2f}'.format(opt_sim_response.mean(), opt_sim_response_std))\n",
    "print('Below LCL({}): {:.2f}%, Above UCL({}): {:.2f}%'.format(lcl, pct_below_lcl*100, ucl, pct_above_ucl*100))\n",
    "\n",
    "# Check the distribution of the optimized simulated response\n",
    "plt.hist(opt_sim_response, bins=50)\n",
    "plt.axvline(ucl, color = 'r', label = 'UCL')\n",
    "plt.axvline(lcl, color = 'k', label = 'LCL')\n",
    "plt.legend()\n",
    "plt.title('Optimized Simulated Response')\n",
    "plt.tight_layout();"
   ]
  },
  {
   "cell_type": "code",
   "execution_count": 26,
   "metadata": {},
   "outputs": [
    {
     "name": "stdout",
     "output_type": "stream",
     "text": [
      "The current and desired stddevs of the features are: \n",
      "\n",
      "            Current_Std  Desired_Std\n",
      "feature_1      0.002009     0.001116\n",
      "feature_2      0.001987     0.001104\n",
      "feature_3      4.968360     2.760200\n",
      "feature_4      5.060973     2.811652\n",
      "feature_61     4.053497     2.251943\n"
     ]
    }
   ],
   "source": [
    "current_std = X_train[feature_cols].std()\n",
    "desired_std = current_std/req_std_div\n",
    "feature_stddevs = pd.DataFrame(np.c_[current_std, desired_std], columns=['Current_Std', 'Desired_Std'], index=feature_cols)\n",
    "print('The current and desired stddevs of the features are: \\n\\n{}'.format(feature_stddevs))"
   ]
  },
  {
   "cell_type": "markdown",
   "metadata": {},
   "source": [
    "# Conclusion"
   ]
  },
  {
   "cell_type": "markdown",
   "metadata": {},
   "source": [
    "- To achieve the customer specs of 21mpg to 24mpg in the response variable, the variation in feature_1, feature_2, feature_3, feature_4 and feature_61 need to be reduced from their current values to the desired values.\n",
    "- Practically this would be achieved by tigheting the tolerances in the SPC systems for these features and let automated Run to Run controllers gradually tighten the disctribution over time.\n",
    "- As a Data Scientist, these results are presented to the Engineering team. The Engineering team then proceeds to tighten the tolerances in the SPC systems."
   ]
  },
  {
   "cell_type": "code",
   "execution_count": null,
   "metadata": {},
   "outputs": [],
   "source": []
  }
 ],
 "metadata": {
  "kernelspec": {
   "display_name": "Python 3",
   "language": "python",
   "name": "python3"
  },
  "language_info": {
   "codemirror_mode": {
    "name": "ipython",
    "version": 3
   },
   "file_extension": ".py",
   "mimetype": "text/x-python",
   "name": "python",
   "nbconvert_exporter": "python",
   "pygments_lexer": "ipython3",
   "version": "3.7.3"
  }
 },
 "nbformat": 4,
 "nbformat_minor": 2
}

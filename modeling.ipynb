{
 "cells": [
  {
   "cell_type": "markdown",
   "metadata": {},
   "source": [
    "# Problem Statement"
   ]
  },
  {
   "cell_type": "markdown",
   "metadata": {},
   "source": [
    "- In modern High Volume Manufacturing (HVM) facility, Statistical Process Control (SPC) systems are very important to ensure all the equipment are delivering products that meet customer specifications. <br>\n",
    "- For example, in a robotic car assembly facility, the customer specification could be that an average car engine should deliver 22.5miles per gallon (mpg) of fuel. This is the 'response' variable. <br>\n",
    "- However, no process in nature will always be on target 100% of the time. Instead, there would be normal variation causing some engines to deliver higher and some to deliver lower than 22.5mpg. <br>\n",
    "- The customer understands about normal variation and is OK to tolerate a variation of +/- 1.5mpg. Any engine beyond these tolerance limits cannot be sold to the customer and needs to be scraped or sold for spare parts causing a revenue loss to the company. <br>\n",
    "- Hence our response variable has a target of 22.5mpg, an upper control limit of 24mpg and a lower control limit (LCL) of 21mpg. \n",
    "- The upper management of the company want 100% of the engines produced to meet these specifications (specs). However, again in nature, nothing is 100% certain. Instead, as Engineers and Statisticians, we settle for the next best thing: We can use SPC systems and 6-sigma processes to ensure 99.73% of engines will be within the specs"
   ]
  },
  {
   "cell_type": "markdown",
   "metadata": {},
   "source": [
    "- Typical HVM product lines can take anywhere between a week to few months to go from pure raw material to the complete finished product that can be sold to the customer.\n",
    "- Since the 'response' variables are customer specs, they can only be tested at the end of the manufacturing product line when the product is already built and ready to ship to the customer\n",
    "- The problem here is that if one of the equipment early on in the manufacturing line has gone rougue and produces defective parts, it can only be detected after several weeks or months when these products are finally tested for the 'response'\n",
    "- This implies that by the time the issue is identified, there could be a huge volume of products that have been processed in the rougue equipment and cause a large revenue impact to the company. So obviously, this strategy is super risky.\n",
    "- To prevent huge revenue losses from random rougue equipment, HVM facilities continuously measure critical dimensions on the product at various steps in the manufacturing line. \n",
    "- These critical dimensions are fed into a SPC system that tracks whether the measurements are running within acceptable tolerance limits themselves following 6-sigma processes."
   ]
  },
  {
   "cell_type": "markdown",
   "metadata": {},
   "source": [
    "- Now consider the following problem statement: All the critical dimensions are performing within their 6-sigma tolerances but the response variable has a large percentage falling outside the customer specs.\n",
    "- In this case, it's obvious that some of the critical dimensions need to have their variation tightened to tighten the variation in the response.\n",
    "- Hence there are 2 questions to be answered:\n",
    "    1. Considering all the critical dimensions measured on the product, which have the most impact on the resposne's variation and what are their individual contributions?\n",
    "    2. How much should the variation of these important critical dimensions be tightened to ensure the response's variation meets customer specs?\n",
    "- Let us attempt to answer both these questions using data science"
   ]
  },
  {
   "cell_type": "code",
   "execution_count": 39,
   "metadata": {},
   "outputs": [],
   "source": [
    "import pandas as pd\n",
    "import numpy as np\n",
    "import matplotlib.pyplot as plt\n",
    "from random import gauss\n",
    "%matplotlib inline"
   ]
  },
  {
   "cell_type": "markdown",
   "metadata": {},
   "source": [
    "# Modeling\n",
    "Considering all the critical dimensions measured on the product, which have the most impact on the resposne's variation and what are their individual contributions?"
   ]
  },
  {
   "cell_type": "code",
   "execution_count": 2,
   "metadata": {},
   "outputs": [
    {
     "name": "stdout",
     "output_type": "stream",
     "text": [
      "df shape = (30000, 201)\n"
     ]
    },
    {
     "data": {
      "text/html": [
       "<div>\n",
       "<style scoped>\n",
       "    .dataframe tbody tr th:only-of-type {\n",
       "        vertical-align: middle;\n",
       "    }\n",
       "\n",
       "    .dataframe tbody tr th {\n",
       "        vertical-align: top;\n",
       "    }\n",
       "\n",
       "    .dataframe thead th {\n",
       "        text-align: right;\n",
       "    }\n",
       "</style>\n",
       "<table border=\"1\" class=\"dataframe\">\n",
       "  <thead>\n",
       "    <tr style=\"text-align: right;\">\n",
       "      <th></th>\n",
       "      <th>feature_1</th>\n",
       "      <th>feature_2</th>\n",
       "      <th>feature_3</th>\n",
       "      <th>feature_4</th>\n",
       "      <th>feature_5</th>\n",
       "      <th>feature_6</th>\n",
       "      <th>feature_7</th>\n",
       "      <th>feature_8</th>\n",
       "      <th>feature_9</th>\n",
       "      <th>feature_10</th>\n",
       "      <th>...</th>\n",
       "      <th>feature_192</th>\n",
       "      <th>feature_193</th>\n",
       "      <th>feature_194</th>\n",
       "      <th>feature_195</th>\n",
       "      <th>feature_196</th>\n",
       "      <th>feature_197</th>\n",
       "      <th>feature_198</th>\n",
       "      <th>feature_199</th>\n",
       "      <th>feature_200</th>\n",
       "      <th>response</th>\n",
       "    </tr>\n",
       "  </thead>\n",
       "  <tbody>\n",
       "    <tr>\n",
       "      <th>0</th>\n",
       "      <td>NaN</td>\n",
       "      <td>NaN</td>\n",
       "      <td>NaN</td>\n",
       "      <td>NaN</td>\n",
       "      <td>NaN</td>\n",
       "      <td>NaN</td>\n",
       "      <td>NaN</td>\n",
       "      <td>NaN</td>\n",
       "      <td>NaN</td>\n",
       "      <td>NaN</td>\n",
       "      <td>...</td>\n",
       "      <td>NaN</td>\n",
       "      <td>NaN</td>\n",
       "      <td>NaN</td>\n",
       "      <td>NaN</td>\n",
       "      <td>NaN</td>\n",
       "      <td>NaN</td>\n",
       "      <td>NaN</td>\n",
       "      <td>NaN</td>\n",
       "      <td>NaN</td>\n",
       "      <td>22.331327</td>\n",
       "    </tr>\n",
       "    <tr>\n",
       "      <th>1</th>\n",
       "      <td>NaN</td>\n",
       "      <td>NaN</td>\n",
       "      <td>NaN</td>\n",
       "      <td>NaN</td>\n",
       "      <td>NaN</td>\n",
       "      <td>NaN</td>\n",
       "      <td>NaN</td>\n",
       "      <td>NaN</td>\n",
       "      <td>NaN</td>\n",
       "      <td>NaN</td>\n",
       "      <td>...</td>\n",
       "      <td>NaN</td>\n",
       "      <td>NaN</td>\n",
       "      <td>NaN</td>\n",
       "      <td>NaN</td>\n",
       "      <td>NaN</td>\n",
       "      <td>NaN</td>\n",
       "      <td>NaN</td>\n",
       "      <td>NaN</td>\n",
       "      <td>NaN</td>\n",
       "      <td>21.791539</td>\n",
       "    </tr>\n",
       "    <tr>\n",
       "      <th>2</th>\n",
       "      <td>NaN</td>\n",
       "      <td>NaN</td>\n",
       "      <td>NaN</td>\n",
       "      <td>NaN</td>\n",
       "      <td>NaN</td>\n",
       "      <td>NaN</td>\n",
       "      <td>NaN</td>\n",
       "      <td>NaN</td>\n",
       "      <td>NaN</td>\n",
       "      <td>NaN</td>\n",
       "      <td>...</td>\n",
       "      <td>NaN</td>\n",
       "      <td>NaN</td>\n",
       "      <td>NaN</td>\n",
       "      <td>NaN</td>\n",
       "      <td>NaN</td>\n",
       "      <td>NaN</td>\n",
       "      <td>NaN</td>\n",
       "      <td>NaN</td>\n",
       "      <td>NaN</td>\n",
       "      <td>22.482583</td>\n",
       "    </tr>\n",
       "    <tr>\n",
       "      <th>3</th>\n",
       "      <td>NaN</td>\n",
       "      <td>NaN</td>\n",
       "      <td>NaN</td>\n",
       "      <td>NaN</td>\n",
       "      <td>NaN</td>\n",
       "      <td>NaN</td>\n",
       "      <td>NaN</td>\n",
       "      <td>NaN</td>\n",
       "      <td>NaN</td>\n",
       "      <td>NaN</td>\n",
       "      <td>...</td>\n",
       "      <td>NaN</td>\n",
       "      <td>NaN</td>\n",
       "      <td>NaN</td>\n",
       "      <td>NaN</td>\n",
       "      <td>NaN</td>\n",
       "      <td>NaN</td>\n",
       "      <td>NaN</td>\n",
       "      <td>NaN</td>\n",
       "      <td>NaN</td>\n",
       "      <td>21.906473</td>\n",
       "    </tr>\n",
       "    <tr>\n",
       "      <th>4</th>\n",
       "      <td>NaN</td>\n",
       "      <td>NaN</td>\n",
       "      <td>NaN</td>\n",
       "      <td>NaN</td>\n",
       "      <td>NaN</td>\n",
       "      <td>NaN</td>\n",
       "      <td>NaN</td>\n",
       "      <td>NaN</td>\n",
       "      <td>NaN</td>\n",
       "      <td>NaN</td>\n",
       "      <td>...</td>\n",
       "      <td>NaN</td>\n",
       "      <td>NaN</td>\n",
       "      <td>NaN</td>\n",
       "      <td>NaN</td>\n",
       "      <td>NaN</td>\n",
       "      <td>NaN</td>\n",
       "      <td>NaN</td>\n",
       "      <td>NaN</td>\n",
       "      <td>NaN</td>\n",
       "      <td>22.444643</td>\n",
       "    </tr>\n",
       "  </tbody>\n",
       "</table>\n",
       "<p>5 rows × 201 columns</p>\n",
       "</div>"
      ],
      "text/plain": [
       "   feature_1  feature_2  feature_3  feature_4  feature_5  feature_6  \\\n",
       "0        NaN        NaN        NaN        NaN        NaN        NaN   \n",
       "1        NaN        NaN        NaN        NaN        NaN        NaN   \n",
       "2        NaN        NaN        NaN        NaN        NaN        NaN   \n",
       "3        NaN        NaN        NaN        NaN        NaN        NaN   \n",
       "4        NaN        NaN        NaN        NaN        NaN        NaN   \n",
       "\n",
       "   feature_7  feature_8  feature_9  feature_10  ...  feature_192  feature_193  \\\n",
       "0        NaN        NaN        NaN         NaN  ...          NaN          NaN   \n",
       "1        NaN        NaN        NaN         NaN  ...          NaN          NaN   \n",
       "2        NaN        NaN        NaN         NaN  ...          NaN          NaN   \n",
       "3        NaN        NaN        NaN         NaN  ...          NaN          NaN   \n",
       "4        NaN        NaN        NaN         NaN  ...          NaN          NaN   \n",
       "\n",
       "   feature_194  feature_195  feature_196  feature_197  feature_198  \\\n",
       "0          NaN          NaN          NaN          NaN          NaN   \n",
       "1          NaN          NaN          NaN          NaN          NaN   \n",
       "2          NaN          NaN          NaN          NaN          NaN   \n",
       "3          NaN          NaN          NaN          NaN          NaN   \n",
       "4          NaN          NaN          NaN          NaN          NaN   \n",
       "\n",
       "   feature_199  feature_200   response  \n",
       "0          NaN          NaN  22.331327  \n",
       "1          NaN          NaN  21.791539  \n",
       "2          NaN          NaN  22.482583  \n",
       "3          NaN          NaN  21.906473  \n",
       "4          NaN          NaN  22.444643  \n",
       "\n",
       "[5 rows x 201 columns]"
      ]
     },
     "execution_count": 2,
     "metadata": {},
     "output_type": "execute_result"
    }
   ],
   "source": [
    "df = pd.read_csv('data/data.csv')\n",
    "print('df shape = {}'.format(df.shape))\n",
    "\n",
    "# Desired control limits\n",
    "target = 22.5 # Target Value\n",
    "ucl = 24 # Upper Control Limit\n",
    "lcl = 21 # Lower Control Limit\n",
    "\n",
    "df.head()"
   ]
  },
  {
   "cell_type": "code",
   "execution_count": 3,
   "metadata": {},
   "outputs": [
    {
     "name": "stdout",
     "output_type": "stream",
     "text": [
      "<class 'pandas.core.frame.DataFrame'>\n",
      "RangeIndex: 30000 entries, 0 to 29999\n",
      "Columns: 201 entries, feature_1 to response\n",
      "dtypes: float64(201)\n",
      "memory usage: 46.0 MB\n"
     ]
    }
   ],
   "source": [
    "df.info()"
   ]
  },
  {
   "cell_type": "code",
   "execution_count": 4,
   "metadata": {},
   "outputs": [
    {
     "data": {
      "text/html": [
       "<div>\n",
       "<style scoped>\n",
       "    .dataframe tbody tr th:only-of-type {\n",
       "        vertical-align: middle;\n",
       "    }\n",
       "\n",
       "    .dataframe tbody tr th {\n",
       "        vertical-align: top;\n",
       "    }\n",
       "\n",
       "    .dataframe thead th {\n",
       "        text-align: right;\n",
       "    }\n",
       "</style>\n",
       "<table border=\"1\" class=\"dataframe\">\n",
       "  <thead>\n",
       "    <tr style=\"text-align: right;\">\n",
       "      <th></th>\n",
       "      <th>feature_1</th>\n",
       "      <th>feature_2</th>\n",
       "      <th>feature_3</th>\n",
       "      <th>feature_4</th>\n",
       "      <th>feature_5</th>\n",
       "      <th>feature_6</th>\n",
       "      <th>feature_7</th>\n",
       "      <th>feature_8</th>\n",
       "      <th>feature_9</th>\n",
       "      <th>feature_10</th>\n",
       "      <th>...</th>\n",
       "      <th>feature_192</th>\n",
       "      <th>feature_193</th>\n",
       "      <th>feature_194</th>\n",
       "      <th>feature_195</th>\n",
       "      <th>feature_196</th>\n",
       "      <th>feature_197</th>\n",
       "      <th>feature_198</th>\n",
       "      <th>feature_199</th>\n",
       "      <th>feature_200</th>\n",
       "      <th>response</th>\n",
       "    </tr>\n",
       "  </thead>\n",
       "  <tbody>\n",
       "    <tr>\n",
       "      <th>count</th>\n",
       "      <td>5596.000000</td>\n",
       "      <td>5504.000000</td>\n",
       "      <td>5580.000000</td>\n",
       "      <td>5560.000000</td>\n",
       "      <td>5559.000000</td>\n",
       "      <td>5608.000000</td>\n",
       "      <td>5566.000000</td>\n",
       "      <td>5627.000000</td>\n",
       "      <td>5558.000000</td>\n",
       "      <td>5624.000000</td>\n",
       "      <td>...</td>\n",
       "      <td>5508.000000</td>\n",
       "      <td>5683.000000</td>\n",
       "      <td>5599.000000</td>\n",
       "      <td>5581.000000</td>\n",
       "      <td>5559.000000</td>\n",
       "      <td>5595.000000</td>\n",
       "      <td>5653.000000</td>\n",
       "      <td>5546.000000</td>\n",
       "      <td>10500.000000</td>\n",
       "      <td>30000.000000</td>\n",
       "    </tr>\n",
       "    <tr>\n",
       "      <th>mean</th>\n",
       "      <td>-0.049988</td>\n",
       "      <td>-0.030009</td>\n",
       "      <td>99.963088</td>\n",
       "      <td>50.076208</td>\n",
       "      <td>-11.385186</td>\n",
       "      <td>105.985351</td>\n",
       "      <td>-59.323253</td>\n",
       "      <td>-125.802191</td>\n",
       "      <td>-93.286980</td>\n",
       "      <td>136.630948</td>\n",
       "      <td>...</td>\n",
       "      <td>21.724107</td>\n",
       "      <td>-87.676903</td>\n",
       "      <td>98.400332</td>\n",
       "      <td>92.756896</td>\n",
       "      <td>-97.036914</td>\n",
       "      <td>131.127743</td>\n",
       "      <td>135.571455</td>\n",
       "      <td>114.755272</td>\n",
       "      <td>147.411487</td>\n",
       "      <td>22.506238</td>\n",
       "    </tr>\n",
       "    <tr>\n",
       "      <th>std</th>\n",
       "      <td>0.002013</td>\n",
       "      <td>0.001988</td>\n",
       "      <td>4.971948</td>\n",
       "      <td>5.035975</td>\n",
       "      <td>5.176511</td>\n",
       "      <td>8.741171</td>\n",
       "      <td>2.699908</td>\n",
       "      <td>1.048946</td>\n",
       "      <td>20.614858</td>\n",
       "      <td>29.329619</td>\n",
       "      <td>...</td>\n",
       "      <td>4.744468</td>\n",
       "      <td>6.147705</td>\n",
       "      <td>15.133076</td>\n",
       "      <td>19.099783</td>\n",
       "      <td>21.878910</td>\n",
       "      <td>11.074760</td>\n",
       "      <td>12.072761</td>\n",
       "      <td>6.630262</td>\n",
       "      <td>22.972507</td>\n",
       "      <td>0.909516</td>\n",
       "    </tr>\n",
       "    <tr>\n",
       "      <th>min</th>\n",
       "      <td>-0.057724</td>\n",
       "      <td>-0.037404</td>\n",
       "      <td>82.764507</td>\n",
       "      <td>28.542544</td>\n",
       "      <td>-31.091991</td>\n",
       "      <td>71.391283</td>\n",
       "      <td>-69.758132</td>\n",
       "      <td>-129.896331</td>\n",
       "      <td>-179.380218</td>\n",
       "      <td>42.849222</td>\n",
       "      <td>...</td>\n",
       "      <td>4.206891</td>\n",
       "      <td>-111.086762</td>\n",
       "      <td>47.780318</td>\n",
       "      <td>13.544308</td>\n",
       "      <td>-180.415655</td>\n",
       "      <td>93.912896</td>\n",
       "      <td>93.424235</td>\n",
       "      <td>86.533637</td>\n",
       "      <td>61.425273</td>\n",
       "      <td>18.842437</td>\n",
       "    </tr>\n",
       "    <tr>\n",
       "      <th>25%</th>\n",
       "      <td>-0.051328</td>\n",
       "      <td>-0.031351</td>\n",
       "      <td>96.654940</td>\n",
       "      <td>46.658592</td>\n",
       "      <td>-14.900162</td>\n",
       "      <td>100.190170</td>\n",
       "      <td>-61.125183</td>\n",
       "      <td>-126.519908</td>\n",
       "      <td>-106.751916</td>\n",
       "      <td>116.483997</td>\n",
       "      <td>...</td>\n",
       "      <td>18.474898</td>\n",
       "      <td>-91.739449</td>\n",
       "      <td>88.106674</td>\n",
       "      <td>80.134232</td>\n",
       "      <td>-111.541486</td>\n",
       "      <td>123.644465</td>\n",
       "      <td>127.223967</td>\n",
       "      <td>110.339222</td>\n",
       "      <td>131.751700</td>\n",
       "      <td>21.899864</td>\n",
       "    </tr>\n",
       "    <tr>\n",
       "      <th>50%</th>\n",
       "      <td>-0.049999</td>\n",
       "      <td>-0.029997</td>\n",
       "      <td>99.953156</td>\n",
       "      <td>50.056272</td>\n",
       "      <td>-11.358976</td>\n",
       "      <td>105.937091</td>\n",
       "      <td>-59.331936</td>\n",
       "      <td>-125.813184</td>\n",
       "      <td>-93.371040</td>\n",
       "      <td>136.600068</td>\n",
       "      <td>...</td>\n",
       "      <td>21.739611</td>\n",
       "      <td>-87.691227</td>\n",
       "      <td>98.117807</td>\n",
       "      <td>92.666595</td>\n",
       "      <td>-97.303217</td>\n",
       "      <td>131.135925</td>\n",
       "      <td>135.559924</td>\n",
       "      <td>114.634614</td>\n",
       "      <td>147.446940</td>\n",
       "      <td>22.511029</td>\n",
       "    </tr>\n",
       "    <tr>\n",
       "      <th>75%</th>\n",
       "      <td>-0.048656</td>\n",
       "      <td>-0.028657</td>\n",
       "      <td>103.327423</td>\n",
       "      <td>53.444281</td>\n",
       "      <td>-7.940067</td>\n",
       "      <td>111.815337</td>\n",
       "      <td>-57.467986</td>\n",
       "      <td>-125.078715</td>\n",
       "      <td>-79.163460</td>\n",
       "      <td>156.604027</td>\n",
       "      <td>...</td>\n",
       "      <td>24.918854</td>\n",
       "      <td>-83.647969</td>\n",
       "      <td>108.475953</td>\n",
       "      <td>105.528646</td>\n",
       "      <td>-82.525892</td>\n",
       "      <td>138.648356</td>\n",
       "      <td>143.619885</td>\n",
       "      <td>119.163837</td>\n",
       "      <td>162.766554</td>\n",
       "      <td>23.120200</td>\n",
       "    </tr>\n",
       "    <tr>\n",
       "      <th>max</th>\n",
       "      <td>-0.043073</td>\n",
       "      <td>-0.022886</td>\n",
       "      <td>117.084253</td>\n",
       "      <td>70.432492</td>\n",
       "      <td>8.643604</td>\n",
       "      <td>134.397908</td>\n",
       "      <td>-49.525436</td>\n",
       "      <td>-121.900874</td>\n",
       "      <td>-28.981557</td>\n",
       "      <td>244.166858</td>\n",
       "      <td>...</td>\n",
       "      <td>40.387937</td>\n",
       "      <td>-66.355070</td>\n",
       "      <td>151.325914</td>\n",
       "      <td>160.912889</td>\n",
       "      <td>-14.354053</td>\n",
       "      <td>170.603790</td>\n",
       "      <td>186.887618</td>\n",
       "      <td>141.026975</td>\n",
       "      <td>235.200831</td>\n",
       "      <td>25.981953</td>\n",
       "    </tr>\n",
       "  </tbody>\n",
       "</table>\n",
       "<p>8 rows × 201 columns</p>\n",
       "</div>"
      ],
      "text/plain": [
       "         feature_1    feature_2    feature_3    feature_4    feature_5  \\\n",
       "count  5596.000000  5504.000000  5580.000000  5560.000000  5559.000000   \n",
       "mean     -0.049988    -0.030009    99.963088    50.076208   -11.385186   \n",
       "std       0.002013     0.001988     4.971948     5.035975     5.176511   \n",
       "min      -0.057724    -0.037404    82.764507    28.542544   -31.091991   \n",
       "25%      -0.051328    -0.031351    96.654940    46.658592   -14.900162   \n",
       "50%      -0.049999    -0.029997    99.953156    50.056272   -11.358976   \n",
       "75%      -0.048656    -0.028657   103.327423    53.444281    -7.940067   \n",
       "max      -0.043073    -0.022886   117.084253    70.432492     8.643604   \n",
       "\n",
       "         feature_6    feature_7    feature_8    feature_9   feature_10  ...  \\\n",
       "count  5608.000000  5566.000000  5627.000000  5558.000000  5624.000000  ...   \n",
       "mean    105.985351   -59.323253  -125.802191   -93.286980   136.630948  ...   \n",
       "std       8.741171     2.699908     1.048946    20.614858    29.329619  ...   \n",
       "min      71.391283   -69.758132  -129.896331  -179.380218    42.849222  ...   \n",
       "25%     100.190170   -61.125183  -126.519908  -106.751916   116.483997  ...   \n",
       "50%     105.937091   -59.331936  -125.813184   -93.371040   136.600068  ...   \n",
       "75%     111.815337   -57.467986  -125.078715   -79.163460   156.604027  ...   \n",
       "max     134.397908   -49.525436  -121.900874   -28.981557   244.166858  ...   \n",
       "\n",
       "       feature_192  feature_193  feature_194  feature_195  feature_196  \\\n",
       "count  5508.000000  5683.000000  5599.000000  5581.000000  5559.000000   \n",
       "mean     21.724107   -87.676903    98.400332    92.756896   -97.036914   \n",
       "std       4.744468     6.147705    15.133076    19.099783    21.878910   \n",
       "min       4.206891  -111.086762    47.780318    13.544308  -180.415655   \n",
       "25%      18.474898   -91.739449    88.106674    80.134232  -111.541486   \n",
       "50%      21.739611   -87.691227    98.117807    92.666595   -97.303217   \n",
       "75%      24.918854   -83.647969   108.475953   105.528646   -82.525892   \n",
       "max      40.387937   -66.355070   151.325914   160.912889   -14.354053   \n",
       "\n",
       "       feature_197  feature_198  feature_199   feature_200      response  \n",
       "count  5595.000000  5653.000000  5546.000000  10500.000000  30000.000000  \n",
       "mean    131.127743   135.571455   114.755272    147.411487     22.506238  \n",
       "std      11.074760    12.072761     6.630262     22.972507      0.909516  \n",
       "min      93.912896    93.424235    86.533637     61.425273     18.842437  \n",
       "25%     123.644465   127.223967   110.339222    131.751700     21.899864  \n",
       "50%     131.135925   135.559924   114.634614    147.446940     22.511029  \n",
       "75%     138.648356   143.619885   119.163837    162.766554     23.120200  \n",
       "max     170.603790   186.887618   141.026975    235.200831     25.981953  \n",
       "\n",
       "[8 rows x 201 columns]"
      ]
     },
     "execution_count": 4,
     "metadata": {},
     "output_type": "execute_result"
    }
   ],
   "source": [
    "df.describe()"
   ]
  },
  {
   "cell_type": "code",
   "execution_count": 5,
   "metadata": {},
   "outputs": [
    {
     "name": "stdout",
     "output_type": "stream",
     "text": [
      "X_train, y_train, X_test, y_test shapes = (24000, 200), (24000,), (6000, 200), (6000,)\n"
     ]
    }
   ],
   "source": [
    "# Split features (X) and response (y)\n",
    "X = df.iloc[:,:-1]\n",
    "y = df['response']\n",
    "\n",
    "# Split Train as first 80% (24K) rows and test as last 20% (6K) rows to simulate using past data to train and future data to test\n",
    "X_train, X_test, y_train, y_test = X[:24000], X[24000:], y[:24000], y[24000:]\n",
    "\n",
    "print('X_train, y_train, X_test, y_test shapes = {}, {}, {}, {}'.format(X_train.shape, y_train.shape, X_test.shape, y_test.shape))"
   ]
  },
  {
   "cell_type": "code",
   "execution_count": 6,
   "metadata": {},
   "outputs": [
    {
     "data": {
      "image/png": "[encoded data removed]",
      "text/plain": [
       "<Figure size 432x288 with 1 Axes>"
      ]
     },
     "metadata": {
      "needs_background": "light"
     },
     "output_type": "display_data"
    }
   ],
   "source": [
    "# Check the distribution of the y_train\n",
    "y_train.hist(bins=50)\n",
    "plt.axvline(ucl, color = 'r', label = 'UCL')\n",
    "plt.axvline(lcl, color = 'k', label = 'LCL')\n",
    "plt.legend()\n",
    "plt.title('Response')\n",
    "plt.tight_layout();"
   ]
  },
  {
   "cell_type": "code",
   "execution_count": 7,
   "metadata": {},
   "outputs": [
    {
     "name": "stdout",
     "output_type": "stream",
     "text": [
      "Min missing = 65.23% ; Max missing = 81.98% \n"
     ]
    }
   ],
   "source": [
    "# Check % of missing data\n",
    "min_missing = X_train.isna().sum().min()/X_train.shape[0]\n",
    "max_missing = X_train.isna().sum().max()/X_train.shape[0]\n",
    "print ('Min missing = {:.2f}% ; Max missing = {:.2f}% '.format(min_missing*100, max_missing*100))"
   ]
  },
  {
   "cell_type": "code",
   "execution_count": 8,
   "metadata": {},
   "outputs": [],
   "source": [
    "# Impute missing values\n",
    "from sklearn.impute import SimpleImputer\n",
    "imputer = SimpleImputer(strategy='mean')\n",
    "\n",
    "# Scaling\n",
    "from sklearn.preprocessing import StandardScaler\n",
    "scaler = StandardScaler()\n",
    "\n",
    "# Linear model\n",
    "from sklearn.linear_model import LinearRegression, LassoCV, RidgeCV, ElasticNetCV, Lasso\n",
    "alphas = np.logspace(-6, -0.1, 100)\n",
    "lr_model = LinearRegression()\n",
    "lass_model = LassoCV(alphas=alphas, cv=3, max_iter=10000)\n",
    "rid_model = RidgeCV(alphas=alphas, cv=3)\n",
    "elas_model = ElasticNetCV(alphas=alphas, cv=3, max_iter=10000, l1_ratio=0.5)\n",
    "\n",
    "# Cross Validation\n",
    "from sklearn.model_selection import KFold\n",
    "kf = KFold(n_splits=10)\n",
    "\n",
    "# Pipeline\n",
    "from sklearn.pipeline import Pipeline\n",
    "\n",
    "# Metrics\n",
    "from sklearn.metrics import mean_squared_error, r2_score\n",
    "\n",
    "models = {'linear_regression': lr_model, 'lasso': lass_model, 'ridge': rid_model, 'elastic_net': elas_model}"
   ]
  },
  {
   "cell_type": "code",
   "execution_count": 9,
   "metadata": {},
   "outputs": [
    {
     "name": "stdout",
     "output_type": "stream",
     "text": [
      "linear_regression Alpha mean: 0.0000; stddev: 0.0000\n",
      "linear_regression RMSE mean: 0.8222; stddev: 0.0137\n",
      "linear_regression R2 mean: 0.1788; stddev: 0.0182\n",
      "\n",
      "lasso Alpha mean: 0.0092; stddev: 0.0006\n",
      "lasso RMSE mean: 0.8199; stddev: 0.0137\n",
      "lasso R2 mean: 0.1834; stddev: 0.0176\n",
      "\n",
      "ridge Alpha mean: 0.7943; stddev: 0.0000\n",
      "ridge RMSE mean: 0.8222; stddev: 0.0137\n",
      "ridge R2 mean: 0.1788; stddev: 0.0182\n",
      "\n",
      "elastic_net Alpha mean: 0.0171; stddev: 0.0011\n",
      "elastic_net RMSE mean: 0.8199; stddev: 0.0136\n",
      "elastic_net R2 mean: 0.1833; stddev: 0.0175\n",
      "\n"
     ]
    }
   ],
   "source": [
    "for model, estimator in models.items():\n",
    "    model_pipeline = Pipeline([\n",
    "        ('imputer', imputer), \n",
    "        ('scaling', scaler),\n",
    "        (model, estimator)\n",
    "        ])\n",
    "    \n",
    "    alpha, RMSE, R2 = [], [], []\n",
    "    \n",
    "    for train_index, val_index in kf.split(X_train):\n",
    "        X_train_fold, X_val_fold = X_train.iloc[train_index], X_train.iloc[val_index]\n",
    "        y_train_fold, y_val_fold = y_train[train_index], y_train[val_index]\n",
    "    \n",
    "        model_pipeline.fit(X_train_fold, y_train_fold)\n",
    "        \n",
    "        if hasattr(model_pipeline.named_steps[model], 'alpha_'):\n",
    "            alpha.append(model_pipeline.named_steps[model].alpha_)\n",
    "        else:\n",
    "            alpha.append(0)\n",
    "        \n",
    "        y_pred = model_pipeline.predict(X_val_fold)\n",
    "        RMSE.append(mean_squared_error(y_val_fold, y_pred)**0.5)\n",
    "        R2.append(r2_score(y_val_fold, y_pred))\n",
    "       \n",
    "    print('{} Alpha mean: {:.4f}; stddev: {:.4f}'.format(model, np.mean(alpha), np.std(alpha)))\n",
    "    print('{} RMSE mean: {:.4f}; stddev: {:.4f}'.format(model, np.mean(RMSE), np.std(RMSE)))\n",
    "    print('{} R2 mean: {:.4f}; stddev: {:.4f}\\n'.format(model, np.mean(R2), np.std(R2)))"
   ]
  },
  {
   "cell_type": "markdown",
   "metadata": {},
   "source": [
    "The RMSEs are not great. In fact, the RMSEs are only ~0.1 lower than the std dev of the response. Let's dig deeper"
   ]
  },
  {
   "cell_type": "code",
   "execution_count": 10,
   "metadata": {},
   "outputs": [
    {
     "name": "stdout",
     "output_type": "stream",
     "text": [
      "RMSE: 0.8238\n",
      "R2: 0.1936\n"
     ]
    },
    {
     "data": {
      "image/png": "[encoded data removed]",
      "text/plain": [
       "<Figure size 432x288 with 1 Axes>"
      ]
     },
     "metadata": {
      "needs_background": "light"
     },
     "output_type": "display_data"
    }
   ],
   "source": [
    "# Build individual Lasso model with best Alpha from above\n",
    "final_pipeline = Pipeline([\n",
    "        ('imputer', imputer), \n",
    "        ('scaling', scaler),\n",
    "        ('lasso', Lasso(alpha = 0.0092))\n",
    "        ])\n",
    "\n",
    "final_pipeline.fit(X_train, y_train)\n",
    "\n",
    "y_pred = final_pipeline.predict(X_test)\n",
    "print('RMSE: {:.4f}'.format(mean_squared_error(y_test, y_pred)**0.5))\n",
    "print('R2: {:.4f}'.format(r2_score(y_test, y_pred)))\n",
    "\n",
    "plt.scatter(y_test, y_pred)\n",
    "plt.ylabel('y_pred')\n",
    "plt.xlabel('y_test');"
   ]
  },
  {
   "cell_type": "code",
   "execution_count": 11,
   "metadata": {},
   "outputs": [
    {
     "data": {
      "text/html": [
       "<div>\n",
       "<style scoped>\n",
       "    .dataframe tbody tr th:only-of-type {\n",
       "        vertical-align: middle;\n",
       "    }\n",
       "\n",
       "    .dataframe tbody tr th {\n",
       "        vertical-align: top;\n",
       "    }\n",
       "\n",
       "    .dataframe thead th {\n",
       "        text-align: right;\n",
       "    }\n",
       "</style>\n",
       "<table border=\"1\" class=\"dataframe\">\n",
       "  <thead>\n",
       "    <tr style=\"text-align: right;\">\n",
       "      <th></th>\n",
       "      <th>coefficient</th>\n",
       "    </tr>\n",
       "  </thead>\n",
       "  <tbody>\n",
       "    <tr>\n",
       "      <th>feature_1</th>\n",
       "      <td>0.208169</td>\n",
       "    </tr>\n",
       "    <tr>\n",
       "      <th>feature_2</th>\n",
       "      <td>-0.205620</td>\n",
       "    </tr>\n",
       "    <tr>\n",
       "      <th>feature_3</th>\n",
       "      <td>-0.206931</td>\n",
       "    </tr>\n",
       "    <tr>\n",
       "      <th>feature_4</th>\n",
       "      <td>0.093546</td>\n",
       "    </tr>\n",
       "    <tr>\n",
       "      <th>feature_61</th>\n",
       "      <td>-0.000601</td>\n",
       "    </tr>\n",
       "  </tbody>\n",
       "</table>\n",
       "</div>"
      ],
      "text/plain": [
       "            coefficient\n",
       "feature_1      0.208169\n",
       "feature_2     -0.205620\n",
       "feature_3     -0.206931\n",
       "feature_4      0.093546\n",
       "feature_61    -0.000601"
      ]
     },
     "execution_count": 11,
     "metadata": {},
     "output_type": "execute_result"
    }
   ],
   "source": [
    "# Find out which features Lasso uses to build the model\n",
    "coef = pd.DataFrame(final_pipeline.named_steps['lasso'].coef_, columns=['coefficient'], index=X_train.columns)\n",
    "coef[coef['coefficient'] != 0]"
   ]
  },
  {
   "cell_type": "code",
   "execution_count": 12,
   "metadata": {},
   "outputs": [
    {
     "data": {
      "text/html": [
       "<div>\n",
       "<style scoped>\n",
       "    .dataframe tbody tr th:only-of-type {\n",
       "        vertical-align: middle;\n",
       "    }\n",
       "\n",
       "    .dataframe tbody tr th {\n",
       "        vertical-align: top;\n",
       "    }\n",
       "\n",
       "    .dataframe thead th {\n",
       "        text-align: right;\n",
       "    }\n",
       "</style>\n",
       "<table border=\"1\" class=\"dataframe\">\n",
       "  <thead>\n",
       "    <tr style=\"text-align: right;\">\n",
       "      <th></th>\n",
       "      <th>coefficient</th>\n",
       "    </tr>\n",
       "  </thead>\n",
       "  <tbody>\n",
       "    <tr>\n",
       "      <th>feature_1</th>\n",
       "      <td>240.673774</td>\n",
       "    </tr>\n",
       "    <tr>\n",
       "      <th>feature_2</th>\n",
       "      <td>-242.640864</td>\n",
       "    </tr>\n",
       "    <tr>\n",
       "      <th>feature_3</th>\n",
       "      <td>-0.097019</td>\n",
       "    </tr>\n",
       "    <tr>\n",
       "      <th>feature_4</th>\n",
       "      <td>0.043336</td>\n",
       "    </tr>\n",
       "    <tr>\n",
       "      <th>feature_61</th>\n",
       "      <td>-0.000346</td>\n",
       "    </tr>\n",
       "  </tbody>\n",
       "</table>\n",
       "</div>"
      ],
      "text/plain": [
       "            coefficient\n",
       "feature_1    240.673774\n",
       "feature_2   -242.640864\n",
       "feature_3     -0.097019\n",
       "feature_4      0.043336\n",
       "feature_61    -0.000346"
      ]
     },
     "execution_count": 12,
     "metadata": {},
     "output_type": "execute_result"
    }
   ],
   "source": [
    "# Rescale back the coefficients to the original scale\n",
    "# https://stackoverflow.com/questions/31029340/how-to-adjust-scaled-scikit-learn-logicistic-regression-coeffs-to-score-a-non-sc\n",
    "coef_rescale = coef.divide(scaler.scale_, axis=0 )\n",
    "coef_rescale[coef_rescale['coefficient'] != 0]"
   ]
  },
  {
   "cell_type": "code",
   "execution_count": 13,
   "metadata": {},
   "outputs": [
    {
     "data": {
      "text/plain": [
       "(227, 200)"
      ]
     },
     "execution_count": 13,
     "metadata": {},
     "output_type": "execute_result"
    }
   ],
   "source": [
    "# Drop rows that contain missing values in the features used by the Lasso model to prevent noise from Imputation\n",
    "feature_cols = list(coef_rescale[coef_rescale['coefficient'] != 0].index)\n",
    "test_df = X_test.dropna(axis = 0, how='any', subset=feature_cols)\n",
    "y_test = y_test[test_df.index]\n",
    "test_df.shape"
   ]
  },
  {
   "cell_type": "code",
   "execution_count": 14,
   "metadata": {},
   "outputs": [
    {
     "name": "stdout",
     "output_type": "stream",
     "text": [
      "RMSE: 0.1098\n",
      "R2: 0.9861\n"
     ]
    },
    {
     "data": {
      "image/png": "[encoded data removed]",
      "text/plain": [
       "<Figure size 432x288 with 1 Axes>"
      ]
     },
     "metadata": {
      "needs_background": "light"
     },
     "output_type": "display_data"
    }
   ],
   "source": [
    "y_pred = final_pipeline.predict(test_df)\n",
    "print('RMSE: {:.4f}'.format(mean_squared_error(y_test, y_pred)**0.5))\n",
    "print('R2: {:.4f}'.format(r2_score(y_test, y_pred)))\n",
    "\n",
    "plt.scatter(y_test, y_pred)\n",
    "plt.ylabel('y_pred')\n",
    "plt.xlabel('y_test');"
   ]
  },
  {
   "cell_type": "markdown",
   "metadata": {},
   "source": [
    "We achieved much better RMSE and R2 after removing the missing values from the features that are important to the model! <br>\n",
    "This suggests that while making predictions, we must limit ourselves to predicting only those rows that have data for all the 5 important features. <br>\n",
    "As a Data Scientist, we can use this conclusion to influence the Engineering team who is incharge of choosing how to sample the measurments. <br> \n",
    "For example, since each feature is measured on 20% of the rows, the Engineering team could implement a sampling strategy to ensure half of these measurements (10%) are measured on all 5 features and the other half (10%) remains random. <br>\n",
    "Knowing your customer and using data to influence their decisions are important skills for a Data Scientist!"
   ]
  },
  {
   "cell_type": "markdown",
   "metadata": {},
   "source": [
    "# Monte Carlo Simulation\n",
    "How much should the variation of these important critical dimensions be tightened to ensure the response's variation meets customer specs?"
   ]
  },
  {
   "cell_type": "code",
   "execution_count": 21,
   "metadata": {},
   "outputs": [
    {
     "data": {
      "image/png": "[encoded data removed]",
      "text/plain": [
       "<Figure size 1080x504 with 6 Axes>"
      ]
     },
     "metadata": {
      "needs_background": "light"
     },
     "output_type": "display_data"
    }
   ],
   "source": [
    "# View the distribution of the feature columns\n",
    "X_train[feature_cols].hist(figsize=(15,7), bins=50);"
   ]
  },
  {
   "cell_type": "code",
   "execution_count": 33,
   "metadata": {},
   "outputs": [
    {
     "data": {
      "text/html": [
       "<div>\n",
       "<style scoped>\n",
       "    .dataframe tbody tr th:only-of-type {\n",
       "        vertical-align: middle;\n",
       "    }\n",
       "\n",
       "    .dataframe tbody tr th {\n",
       "        vertical-align: top;\n",
       "    }\n",
       "\n",
       "    .dataframe thead th {\n",
       "        text-align: right;\n",
       "    }\n",
       "</style>\n",
       "<table border=\"1\" class=\"dataframe\">\n",
       "  <thead>\n",
       "    <tr style=\"text-align: right;\">\n",
       "      <th></th>\n",
       "      <th>feature_1</th>\n",
       "      <th>feature_2</th>\n",
       "      <th>feature_3</th>\n",
       "      <th>feature_4</th>\n",
       "      <th>feature_61</th>\n",
       "    </tr>\n",
       "  </thead>\n",
       "  <tbody>\n",
       "    <tr>\n",
       "      <th>count</th>\n",
       "      <td>4450.000000</td>\n",
       "      <td>4368.000000</td>\n",
       "      <td>4424.000000</td>\n",
       "      <td>4367.000000</td>\n",
       "      <td>4414.000000</td>\n",
       "    </tr>\n",
       "    <tr>\n",
       "      <th>mean</th>\n",
       "      <td>-0.049984</td>\n",
       "      <td>-0.030033</td>\n",
       "      <td>99.962276</td>\n",
       "      <td>50.091356</td>\n",
       "      <td>89.907866</td>\n",
       "    </tr>\n",
       "    <tr>\n",
       "      <th>std</th>\n",
       "      <td>0.002009</td>\n",
       "      <td>0.001987</td>\n",
       "      <td>4.968360</td>\n",
       "      <td>5.060973</td>\n",
       "      <td>4.053497</td>\n",
       "    </tr>\n",
       "    <tr>\n",
       "      <th>min</th>\n",
       "      <td>-0.056646</td>\n",
       "      <td>-0.037404</td>\n",
       "      <td>82.764507</td>\n",
       "      <td>28.542544</td>\n",
       "      <td>75.704685</td>\n",
       "    </tr>\n",
       "    <tr>\n",
       "      <th>25%</th>\n",
       "      <td>-0.051322</td>\n",
       "      <td>-0.031377</td>\n",
       "      <td>96.668553</td>\n",
       "      <td>46.644774</td>\n",
       "      <td>87.210038</td>\n",
       "    </tr>\n",
       "    <tr>\n",
       "      <th>50%</th>\n",
       "      <td>-0.049995</td>\n",
       "      <td>-0.030015</td>\n",
       "      <td>99.901465</td>\n",
       "      <td>50.047881</td>\n",
       "      <td>89.861049</td>\n",
       "    </tr>\n",
       "    <tr>\n",
       "      <th>75%</th>\n",
       "      <td>-0.048640</td>\n",
       "      <td>-0.028674</td>\n",
       "      <td>103.244163</td>\n",
       "      <td>53.500605</td>\n",
       "      <td>92.595708</td>\n",
       "    </tr>\n",
       "    <tr>\n",
       "      <th>max</th>\n",
       "      <td>-0.043528</td>\n",
       "      <td>-0.022886</td>\n",
       "      <td>117.084253</td>\n",
       "      <td>70.432492</td>\n",
       "      <td>103.987419</td>\n",
       "    </tr>\n",
       "  </tbody>\n",
       "</table>\n",
       "</div>"
      ],
      "text/plain": [
       "         feature_1    feature_2    feature_3    feature_4   feature_61\n",
       "count  4450.000000  4368.000000  4424.000000  4367.000000  4414.000000\n",
       "mean     -0.049984    -0.030033    99.962276    50.091356    89.907866\n",
       "std       0.002009     0.001987     4.968360     5.060973     4.053497\n",
       "min      -0.056646    -0.037404    82.764507    28.542544    75.704685\n",
       "25%      -0.051322    -0.031377    96.668553    46.644774    87.210038\n",
       "50%      -0.049995    -0.030015    99.901465    50.047881    89.861049\n",
       "75%      -0.048640    -0.028674   103.244163    53.500605    92.595708\n",
       "max      -0.043528    -0.022886   117.084253    70.432492   103.987419"
      ]
     },
     "execution_count": 33,
     "metadata": {},
     "output_type": "execute_result"
    }
   ],
   "source": [
    "X_train[feature_cols].describe()"
   ]
  },
  {
   "cell_type": "code",
   "execution_count": 102,
   "metadata": {},
   "outputs": [],
   "source": [
    "simulated_response = 0\n",
    "N_runs = 50000\n",
    "RMSE = mean_squared_error(y_test, y_pred)**0.5\n",
    "#intercept = final_pipeline.named_steps['lasso'].intercept_ - np.dot(final_pipeline.named_steps['lasso'].coef_, scaler.mean_)\n",
    "\n",
    "for col in feature_cols:\n",
    "    col_mean = X_train[col].mean()\n",
    "    col_std = X_train[col].std()\n",
    "    col_coef = coef_rescale.coefficient[col]\n",
    "    simulated_response += col_coef * np.random.normal(loc = col_mean, scale = col_std, size = N_runs)\n",
    "    \n",
    "simulated_response += [gauss(0, RMSE) for i in range(N_runs)]\n",
    "simulated_response += (y_train.mean() - simulated_response.mean())"
   ]
  },
  {
   "cell_type": "code",
   "execution_count": 105,
   "metadata": {},
   "outputs": [
    {
     "name": "stdout",
     "output_type": "stream",
     "text": [
      "Simulated Response StdDev: 0.8675768986977458\n"
     ]
    },
    {
     "data": {
      "image/png": "[encoded data removed]",
      "text/plain": [
       "<Figure size 432x288 with 1 Axes>"
      ]
     },
     "metadata": {
      "needs_background": "light"
     },
     "output_type": "display_data"
    }
   ],
   "source": [
    "print('Simulated Response StdDev: {}'.format(simulated_response.std()))\n",
    "plt.hist(simulated_response, bins=50)\n",
    "plt.axvline(ucl, color = 'r', label = 'UCL')\n",
    "plt.axvline(lcl, color = 'k', label = 'LCL')\n",
    "plt.legend()\n",
    "plt.title('Simulated Response')\n",
    "plt.tight_layout();"
   ]
  },
  {
   "cell_type": "code",
   "execution_count": null,
   "metadata": {},
   "outputs": [],
   "source": []
  }
 ],
 "metadata": {
  "kernelspec": {
   "display_name": "Python 3",
   "language": "python",
   "name": "python3"
  },
  "language_info": {
   "codemirror_mode": {
    "name": "ipython",
    "version": 3
   },
   "file_extension": ".py",
   "mimetype": "text/x-python",
   "name": "python",
   "nbconvert_exporter": "python",
   "pygments_lexer": "ipython3",
   "version": "3.7.3"
  }
 },
 "nbformat": 4,
 "nbformat_minor": 2
}
